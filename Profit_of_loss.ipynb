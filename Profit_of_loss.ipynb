{
  "nbformat": 4,
  "nbformat_minor": 0,
  "metadata": {
    "colab": {
      "provenance": [],
      "authorship_tag": "ABX9TyMD9wa4oGigZZwdd/azw/PU",
      "include_colab_link": true
    },
    "kernelspec": {
      "name": "python3",
      "display_name": "Python 3"
    },
    "language_info": {
      "name": "python"
    }
  },
  "cells": [
    {
      "cell_type": "markdown",
      "metadata": {
        "id": "view-in-github",
        "colab_type": "text"
      },
      "source": [
        "<a href=\"https://colab.research.google.com/github/stepheodhiambo2000/BUSINESS-ANALYST/blob/main/Profit_of_loss.ipynb\" target=\"_parent\"><img src=\"https://colab.research.google.com/assets/colab-badge.svg\" alt=\"Open In Colab\"/></a>"
      ]
    },
    {
      "cell_type": "code",
      "execution_count": 1,
      "metadata": {
        "colab": {
          "base_uri": "https://localhost:8080/"
        },
        "id": "RrgmLpJYLdFH",
        "outputId": "0b63d2ec-d206-4f89-c4b0-bccc76941cc2"
      },
      "outputs": [
        {
          "output_type": "stream",
          "name": "stdout",
          "text": [
            " Please Enter the Actual Product Price: 9000\n",
            " Please Enter the Sales Amount: 12000\n",
            "Total Profit = 3000.0\n"
          ]
        }
      ],
      "source": [
        "# Python Program to Calculate profit\n",
        " \n",
        "actual_cost = float(input(\" Please Enter the Actual Product Price: \"))\n",
        "sale_amount = float(input(\" Please Enter the Sales Amount: \"))\n",
        " \n",
        "if(actual_cost > sale_amount):\n",
        "    amount = actual_cost - sale_amount\n",
        "    print(\"Total Loss Amount = {0}\".format(amount))\n",
        "elif(sale_amount > actual_cost):\n",
        "    amount = sale_amount - actual_cost\n",
        "    print(\"Total Profit = {0}\".format(amount))\n",
        "else:\n",
        "    print(\"No Profit No Loss!!!\")"
      ]
    }
  ]
}